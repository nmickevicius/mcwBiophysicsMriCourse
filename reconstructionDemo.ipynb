{
 "cells": [
  {
   "cell_type": "markdown",
   "metadata": {},
   "source": [
    "[![Open in Colab](https://colab.research.google.com/assets/colab-badge.svg)](https://colab.research.google.com/github/nmickevicius/mcwBiophysicsMriCourse/blob/main/reconstructionDemo.ipynb)"
   ]
  },
  {
   "cell_type": "markdown",
   "metadata": {},
   "source": [
    "# Image Reconstruction Demo \n",
    "\n",
    "3D balanced steady-state free precession (bSSFP) data were acquired in a phantom. The data were acquired with an acquisition matrix of 256x256x32 with a TR of 4.5 ms and flip angle of 30 degrees. Following an inverse Fourier transform along the \"slice\" dimension, a single slice was extracted and saved for this demo. "
   ]
  },
  {
   "cell_type": "markdown",
   "metadata": {},
   "source": [
    "## Imports and Data Download"
   ]
  },
  {
   "cell_type": "code",
   "execution_count": null,
   "metadata": {},
   "outputs": [],
   "source": [
    "import numpy as np \n",
    "import h5py \n",
    "import matplotlib.pyplot as plt \n",
    "\n",
    "# download the .h5 file and load it as a complex-valued numpy array\n",
    "!wget --no-check-certificate --content-disposition https://github.com/nmickevicius/mcwBiophysicsMriCourse/raw/main/data/bssfpKSpace.h5\n",
    "with h5py.File('bssfpKSpace.h5','r') as F:\n",
    "    data = np.array(F['data'], dtype=np.complex64)\n",
    "    csm = np.array(F['csm'], dtype=np.complex64)"
   ]
  },
  {
   "cell_type": "markdown",
   "metadata": {},
   "source": [
    "# Support Functions "
   ]
  },
  {
   "cell_type": "code",
   "execution_count": null,
   "metadata": {},
   "outputs": [],
   "source": [
    "def fft1d(inp,dim):\n",
    "    return np.fft.fftshift(np.fft.fft(np.fft.fftshift(inp,dim),axis=dim),dim)\n",
    "\n",
    "def ifft1d(inp,dim):\n",
    "    return np.fft.ifftshift(np.fft.ifft(np.fft.ifftshift(inp,dim),axis=dim),dim)\n",
    "\n",
    "def fft2d(inp):\n",
    "    return fft1d(fft1d(inp,0),1)\n",
    "\n",
    "def ifft2d(inp):\n",
    "    return ifft1d(ifft1d(inp,0),1)"
   ]
  },
  {
   "cell_type": "markdown",
   "metadata": {},
   "source": [
    "## Simple Inverse FFT Reconstruction"
   ]
  },
  {
   "cell_type": "code",
   "execution_count": null,
   "metadata": {},
   "outputs": [],
   "source": [
    "# inverse FFT to get a 2D image for each coil \n",
    "rec = ifft2d(data)\n",
    "\n",
    "# root sum-of-squares coil combination \n",
    "rss = np.sqrt(np.sum(np.abs(rec * np.conj(rec)),axis=-1))\n",
    "\n",
    "# complex coil combination using sensitivity maps keeps the image phase! \n",
    "ccc = np.sum( rec * np.conj(csm), axis=-1)\n",
    "\n",
    "# display RSS magnitude and phase\n",
    "fig, axs = plt.subplots(1, 2, figsize=(9, 3))\n",
    "magim = axs[0].imshow(np.abs(rss), cmap='gray')\n",
    "plt.colorbar(magim)\n",
    "phaim = axs[1].imshow(np.angle(rss), vmin=-np.pi, vmax=np.pi)\n",
    "plt.colorbar(phaim)\n",
    "fig.suptitle('Root Sum-of-Squares Coil Combination')\n",
    "\n",
    "# display CCC magnitude and phase\n",
    "fig, axs = plt.subplots(1, 2, figsize=(9, 3))\n",
    "magim = axs[0].imshow(np.abs(ccc), cmap='gray')\n",
    "plt.colorbar(magim)\n",
    "phaim = axs[1].imshow(np.angle(ccc), vmin=-np.pi, vmax=np.pi)\n",
    "plt.colorbar(phaim)\n",
    "fig.suptitle('Complex Coil Combination')"
   ]
  },
  {
   "cell_type": "markdown",
   "metadata": {},
   "source": [
    "## Undersampling Data by Factor of Two\n",
    "\n",
    "What happens if we skipped the acquisition of every other line in k-space? "
   ]
  },
  {
   "cell_type": "code",
   "execution_count": null,
   "metadata": {},
   "outputs": [],
   "source": [
    "usdata = np.zeros_like(data)\n",
    "usdata[:,::2,:] = data[:,::2,:]\n",
    "\n",
    "# inverse FFT to get a 2D image for each coil \n",
    "rec = ifft2d(usdata)\n",
    "\n",
    "# root sum-of-squares coil combination \n",
    "rss = np.sqrt(np.sum(np.abs(rec * np.conj(rec)),axis=-1))\n",
    "\n",
    "fig = plt.figure() \n",
    "fig.set_figwidth(10)\n",
    "fig.set_figheight(10)\n",
    "plt.imshow(np.log10(np.abs(usdata[:,:,0])))\n",
    "plt.title('2x Accelerated k-Space')\n",
    "plt.show()\n",
    "\n",
    "fig = plt.figure() \n",
    "fig.set_figwidth(10)\n",
    "fig.set_figheight(10)\n",
    "plt.imshow(np.abs(rss), cmap='gray')\n",
    "plt.title('2x Accelerated Reconstruction')\n",
    "plt.show()\n"
   ]
  },
  {
   "cell_type": "markdown",
   "metadata": {},
   "source": [
    "## Now by a Factor of Four"
   ]
  },
  {
   "cell_type": "code",
   "execution_count": null,
   "metadata": {},
   "outputs": [],
   "source": [
    "usdata = np.zeros_like(data)\n",
    "usdata[:,::4,:] = data[:,::4,:]\n",
    "\n",
    "# inverse FFT to get a 2D image for each coil \n",
    "rec = ifft2d(usdata)\n",
    "\n",
    "# root sum-of-squares coil combination \n",
    "rss = np.sqrt(np.sum(np.abs(rec * np.conj(rec)),axis=-1))\n",
    "\n",
    "fig = plt.figure() \n",
    "fig.set_figwidth(10)\n",
    "fig.set_figheight(10)\n",
    "plt.imshow(np.log10(np.abs(usdata[:,:,0])))\n",
    "plt.title('4x Accelerated k-Space')\n",
    "plt.show()\n",
    "\n",
    "fig = plt.figure() \n",
    "fig.set_figwidth(10)\n",
    "fig.set_figheight(10)\n",
    "plt.imshow(np.abs(rss), cmap='gray')\n",
    "plt.title('4x Accelerated Reconstruction')\n",
    "plt.show()"
   ]
  },
  {
   "cell_type": "markdown",
   "metadata": {},
   "source": [
    "## Random 4x Undersampling"
   ]
  },
  {
   "cell_type": "code",
   "execution_count": null,
   "metadata": {},
   "outputs": [],
   "source": [
    "N = data.shape[1]\n",
    "inds = np.random.permutation(N)[:int(N/4)]\n",
    "usdata = np.zeros_like(data)\n",
    "usdata[:,inds,:] = data[:,inds,:]\n",
    "\n",
    "# inverse FFT to get a 2D image for each coil \n",
    "rec = ifft2d(usdata)\n",
    "\n",
    "# root sum-of-squares coil combination \n",
    "rss = np.sqrt(np.sum(np.abs(rec * np.conj(rec)),axis=-1))\n",
    "\n",
    "fig = plt.figure() \n",
    "fig.set_figwidth(10)\n",
    "fig.set_figheight(10)\n",
    "plt.imshow(np.log10(np.abs(usdata[:,:,0])))\n",
    "plt.title('Random 4x Accelerated k-Space')\n",
    "plt.show()\n",
    "\n",
    "fig = plt.figure() \n",
    "fig.set_figwidth(10)\n",
    "fig.set_figheight(10)\n",
    "plt.imshow(np.abs(rss), cmap='gray')\n",
    "plt.title('Random 4x Accelerated Reconstruction')\n",
    "plt.show()\n"
   ]
  },
  {
   "cell_type": "markdown",
   "metadata": {},
   "source": [
    "## Parallel Imaging\n",
    "\n",
    "The linear representation of the MRI signal formation process is practical for reconstructing images from undersampled measurements.\n",
    "\n",
    "If the desired image is the vectorized $N \\times N$ image given by $\\mathbf{x} \\in \\mathbb{C}^{N^2}$, it can be related to the undersampled k-space measurements $\\mathbf{y} \\in \\mathbb{C}^{ N_s \\cdot N \\cdot N_c}$ by an operator $\\mathbf{A} \\in \\mathbb{C}^{N_s \\cdot N\\cdot N_c \\times{N^2}}$ such that $\\mathbf{y} = \\mathbf{Ax}$. Here, $N_s$ is the number of phase encoding lines acquired and $N_c$ is the number of RF coils used in the measurement. \n",
    "\n",
    "The linear model is given by $\\mathbf{A} = \\mathbf{PFS}$, where $\\mathbf{S}$ is a multiplication with the RF coil sensitivities, $\\mathbf{F}$ is the 2D Fourier transform operator, and $\\mathbf{P}$ is the k-space sampling mask. \n",
    "\n",
    "If $\\mathbf{A}$ is practically invertible, the solution can be obtained by $\\mathbf{x} = \\mathbf{A}^{-1}\\mathbf{y}$. However, this matrix becomes prohibitively large with increasing matrix sizes. So, this problem is often addressed iteratively. An example algorithm is shown below\n",
    "\n"
   ]
  },
  {
   "cell_type": "code",
   "execution_count": null,
   "metadata": {},
   "outputs": [],
   "source": [
    "# function that carries out the operation A*x \n",
    "def A_for(x, S, P):\n",
    "    return P * fft2d(S*x[:,:,None])\n",
    "\n",
    "# function that carries out the operation A'*y \n",
    "def A_adj(y, S, P):\n",
    "    return np.sum(np.conj(S) * ifft2d(P*y), axis=-1)\n",
    "\n",
    "# SENSE reconstruction solved with conjugate gradient methods\n",
    "def sense_cg(y, S, tik=0.0, niters=40):\n",
    "\n",
    "    # get sampling mask \n",
    "    P = np.zeros_like(y)\n",
    "    P[np.abs(y) > 0.0] = 1.0\n",
    "\n",
    "    # function that carries out the normal operator A'*A + tik*I \n",
    "    AhA = lambda x: A_adj(A_for(x, S, P), S, P) + tik*x \n",
    "\n",
    "    x = np.zeros((y.shape[0], y.shape[1]), dtype=y.dtype)\n",
    "    b = A_adj(y, S, P)\n",
    "    r = b - AhA(x)\n",
    "    p = np.copy(r)\n",
    "    rsnot = np.sum(r*np.conj(r))\n",
    "    rsold = rsnot \n",
    "    rsnew = rsnot \n",
    "    for i in range(niters):\n",
    "        Ap = AhA(p) \n",
    "        pAp = np.sum(p*np.conj(Ap))\n",
    "        alpha = rsold / pAp \n",
    "        x = x + alpha*p \n",
    "        r = r - alpha*Ap \n",
    "        rsnew = np.sum(r*np.conj(r))\n",
    "        beta = rsnew/rsold \n",
    "        rsold = rsnew \n",
    "        p = beta*p + r\n",
    "        \n",
    "    return x\n"
   ]
  },
  {
   "cell_type": "markdown",
   "metadata": {},
   "source": [
    "## SENSE Reconstruction of 2x Random Sampling"
   ]
  },
  {
   "cell_type": "code",
   "execution_count": null,
   "metadata": {},
   "outputs": [],
   "source": [
    "N = data.shape[1]\n",
    "inds = np.random.permutation(N)[:int(N/2)]\n",
    "usdata = np.zeros_like(data)\n",
    "usdata[:,inds,:] = data[:,inds,:]\n",
    "\n",
    "# simple IFFT reconstruction\n",
    "rec_ifft = ifft2d(usdata)\n",
    "rec_ifft = np.sqrt(np.sum(rec_ifft * np.conj(rec_ifft), axis=-1))\n",
    "\n",
    "# SENSE reconstruction \n",
    "rec_sense = sense_cg(usdata, csm, niters=20)\n",
    "\n",
    "fig = plt.figure() \n",
    "fig.set_figwidth(5)\n",
    "fig.set_figheight(5)\n",
    "plt.imshow(np.abs(rec_ifft),cmap='gray')\n",
    "plt.title('IFFT')\n",
    "plt.show()\n",
    "\n",
    "fig = plt.figure() \n",
    "fig.set_figwidth(5)\n",
    "fig.set_figheight(5)\n",
    "plt.imshow(np.abs(rec_sense),cmap='gray')\n",
    "plt.title('SENSE')\n",
    "plt.show()"
   ]
  }
 ],
 "metadata": {
  "language_info": {
   "name": "python"
  },
  "orig_nbformat": 4
 },
 "nbformat": 4,
 "nbformat_minor": 2
}
