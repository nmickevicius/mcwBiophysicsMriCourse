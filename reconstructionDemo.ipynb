{
 "cells": [
  {
   "cell_type": "markdown",
   "metadata": {},
   "source": [
    "[![Open in Colab](https://colab.research.google.com/assets/colab-badge.svg)](https://colab.research.google.com/github/nmickevicius/mcwBiophysicsMriCourse/blob/main/reconstructionDemo.ipynb)"
   ]
  },
  {
   "cell_type": "markdown",
   "metadata": {},
   "source": [
    "# Image Reconstruction Demo \n",
    "\n",
    "3D balanced steady-state free precession (bSSFP) data were acquired in a phantom. The data were acquired with an acquisition matrix of 256x256x32 with a TR of 4.5 ms and flip angle of 30 degrees. Following an inverse Fourier transform along the \"slice\" dimension, a single slice was extracted and saved for this demo. "
   ]
  },
  {
   "cell_type": "markdown",
   "metadata": {},
   "source": [
    "## Imports and Data Download"
   ]
  },
  {
   "cell_type": "code",
   "execution_count": null,
   "metadata": {},
   "outputs": [],
   "source": [
    "import numpy as np \n",
    "import h5py \n",
    "import matplotlib.pyplot as plt \n",
    "\n",
    "# download the .h5 file and load it as a complex-valued numpy array\n",
    "!wget --no-check-certificate --content-disposition https://github.com/nmickevicius/mcwBiophysicsMriCourse/raw/main/data/bssfpKSpace.h5\n",
    "with h5py.File('bssfpKSpace.h5','r') as F:\n",
    "    data = np.array(F['data'], dtype=np.complex64)\n",
    "    csm = np.array(F['csm'], dtype=np.complex64)"
   ]
  },
  {
   "cell_type": "markdown",
   "metadata": {},
   "source": [
    "# Support Functions "
   ]
  },
  {
   "cell_type": "code",
   "execution_count": null,
   "metadata": {},
   "outputs": [],
   "source": [
    "def fft1d(inp,dim):\n",
    "    return np.fft.fftshift(np.fft.fft(np.fft.fftshift(inp,dim),axis=dim),dim)\n",
    "\n",
    "def ifft1d(inp,dim):\n",
    "    return np.fft.ifftshift(np.fft.ifft(np.fft.ifftshift(inp,dim),axis=dim),dim)"
   ]
  },
  {
   "cell_type": "code",
   "execution_count": null,
   "metadata": {},
   "outputs": [],
   "source": []
  }
 ],
 "metadata": {
  "language_info": {
   "name": "python"
  },
  "orig_nbformat": 4
 },
 "nbformat": 4,
 "nbformat_minor": 2
}
