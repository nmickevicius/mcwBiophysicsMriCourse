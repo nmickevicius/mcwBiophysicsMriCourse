{
 "cells": [
  {
   "cell_type": "markdown",
   "metadata": {},
   "source": [
    "[![Open in Colab](https://colab.research.google.com/assets/colab-badge.svg)](https://colab.research.google.com/github/nmickevicius/mcwBiophysicsMriCourse/blob/main/reconstructionDemo.ipynb)"
   ]
  },
  {
   "cell_type": "markdown",
   "metadata": {},
   "source": [
    "# Image Reconstruction Demo \n",
    "\n",
    "3D balanced steady-state free precession (bSSFP) data were acquired in a phantom. The data were acquired with an acquisition matrix of 256x256x32 with a TR of 4.5 ms and flip angle of 30 degrees. Following an inverse Fourier transform along the \"slice\" dimension, a single slice was extracted and saved for this demo. "
   ]
  },
  {
   "cell_type": "markdown",
   "metadata": {},
   "source": [
    "## Imports and Data Download"
   ]
  },
  {
   "cell_type": "code",
   "execution_count": null,
   "metadata": {},
   "outputs": [],
   "source": [
    "import numpy as np \n",
    "import h5py \n",
    "import matplotlib.pyplot as plt \n",
    "\n",
    "# download the .h5 file and load it as a complex-valued numpy array\n",
    "!wget --no-check-certificate --content-disposition https://github.com/nmickevicius/mcwBiophysicsMriCourse/raw/main/data/bssfpKSpace.h5\n",
    "with h5py.File('bssfpKSpace.h5','r') as F:\n",
    "    data = np.array(F['data'], dtype=np.complex64)\n",
    "    csm = np.array(F['csm'], dtype=np.complex64)"
   ]
  },
  {
   "cell_type": "markdown",
   "metadata": {},
   "source": [
    "# Support Functions "
   ]
  },
  {
   "cell_type": "code",
   "execution_count": null,
   "metadata": {},
   "outputs": [],
   "source": [
    "def fft1d(inp,dim):\n",
    "    return np.fft.fftshift(np.fft.fft(np.fft.fftshift(inp,dim),axis=dim),dim)\n",
    "\n",
    "def ifft1d(inp,dim):\n",
    "    return np.fft.ifftshift(np.fft.ifft(np.fft.ifftshift(inp,dim),axis=dim),dim)\n",
    "\n",
    "def fft2d(inp):\n",
    "    return fft1d(fft1d(inp,0),1)\n",
    "\n",
    "def ifft2d(inp):\n",
    "    return ifft1d(ifft1d(inp,0),1)"
   ]
  },
  {
   "cell_type": "markdown",
   "metadata": {},
   "source": [
    "## Simple Inverse FFT Reconstruction"
   ]
  },
  {
   "cell_type": "code",
   "execution_count": null,
   "metadata": {},
   "outputs": [],
   "source": [
    "# inverse FFT to get a 2D image for each coil \n",
    "rec = ifft2d(data)\n",
    "\n",
    "# root sum-of-squares coil combination \n",
    "rss = np.sqrt(np.sum(np.abs(rec * np.conj(rec)),axis=-1))\n",
    "\n",
    "# complex coil combination using sensitivity maps keeps the image phase! \n",
    "ccc = np.sum( rec * np.conj(csm), axis=-1)\n",
    "\n",
    "# display RSS magnitude and phase\n",
    "fig, axs = plt.subplots(1, 2, figsize=(9, 3))\n",
    "magim = axs[0].imshow(np.abs(rss), cmap='gray')\n",
    "plt.colorbar(magim)\n",
    "phaim = axs[1].imshow(np.angle(rss), vmin=-np.pi, vmax=np.pi)\n",
    "plt.colorbar(phaim)\n",
    "fig.suptitle('Root Sum-of-Squares Coil Combination')\n",
    "\n",
    "# display CCC magnitude and phase\n",
    "fig, axs = plt.subplots(1, 2, figsize=(9, 3))\n",
    "magim = axs[0].imshow(np.abs(ccc), cmap='gray')\n",
    "plt.colorbar(magim)\n",
    "phaim = axs[1].imshow(np.angle(ccc), vmin=-np.pi, vmax=np.pi)\n",
    "plt.colorbar(phaim)\n",
    "fig.suptitle('Complex Coil Combination')"
   ]
  },
  {
   "cell_type": "markdown",
   "metadata": {},
   "source": [
    "## Undersampling Data by Factor of Two\n",
    "\n",
    "What happens if we skipped the acquisition of every other line in k-space? "
   ]
  },
  {
   "cell_type": "code",
   "execution_count": null,
   "metadata": {},
   "outputs": [],
   "source": [
    "usdata = np.zeros_like(data)\n",
    "usdata[:,::2,:] = data[:,::2,:]\n",
    "\n",
    "# inverse FFT to get a 2D image for each coil \n",
    "rec = ifft2d(usdata)\n",
    "\n",
    "# root sum-of-squares coil combination \n",
    "rss = np.sqrt(np.sum(np.abs(rec * np.conj(rec)),axis=-1))\n",
    "\n",
    "fig = plt.figure() \n",
    "fig.set_figwidth(10)\n",
    "fig.set_figheight(10)\n",
    "plt.imshow(np.log10(np.abs(usdata[:,:,0])))\n",
    "plt.title('2x Accelerated k-Space')\n",
    "plt.show()\n",
    "\n",
    "fig = plt.figure() \n",
    "fig.set_figwidth(10)\n",
    "fig.set_figheight(10)\n",
    "plt.imshow(np.abs(rss), cmap='gray')\n",
    "plt.title('1x Accelerated Reconstruction')\n",
    "plt.show()\n"
   ]
  },
  {
   "cell_type": "markdown",
   "metadata": {},
   "source": [
    "# Now With a Factor of Four"
   ]
  },
  {
   "cell_type": "code",
   "execution_count": null,
   "metadata": {},
   "outputs": [],
   "source": [
    "usdata = np.zeros_like(data)\n",
    "usdata[:,::4,:] = data[:,::4,:]\n",
    "\n",
    "# inverse FFT to get a 2D image for each coil \n",
    "rec = ifft2d(usdata)\n",
    "\n",
    "# root sum-of-squares coil combination \n",
    "rss = np.sqrt(np.sum(np.abs(rec * np.conj(rec)),axis=-1))\n",
    "\n",
    "fig = plt.figure() \n",
    "fig.set_figwidth(10)\n",
    "fig.set_figheight(10)\n",
    "plt.imshow(np.log10(np.abs(usdata[:,:,0])))\n",
    "plt.title('2x Accelerated k-Space')\n",
    "plt.show()\n",
    "\n",
    "fig = plt.figure() \n",
    "fig.set_figwidth(10)\n",
    "fig.set_figheight(10)\n",
    "plt.imshow(np.abs(rss), cmap='gray')\n",
    "plt.title('1x Accelerated Reconstruction')\n",
    "plt.show()"
   ]
  }
 ],
 "metadata": {
  "language_info": {
   "name": "python"
  },
  "orig_nbformat": 4
 },
 "nbformat": 4,
 "nbformat_minor": 2
}
